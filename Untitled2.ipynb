{
 "cells": [
  {
   "cell_type": "code",
   "execution_count": 12,
   "id": "64d7736a-cac4-47c0-a4d0-f5a877b2293f",
   "metadata": {},
   "outputs": [
    {
     "name": "stdout",
     "output_type": "stream",
     "text": [
      "原始数据：共 398 张图片，标签：['Isc', 'NIsc']\n"
     ]
    }
   ],
   "source": [
    "import torch\n",
    "import torch.nn as nn\n",
    "import torch.optim as optim\n",
    "from torchvision import models, datasets, transforms\n",
    "from torch.utils.data import DataLoader, Subset\n",
    "from sklearn.model_selection import train_test_split\n",
    "import matplotlib.pyplot as plt\n",
    "import numpy as np\n",
    "import os\n",
    "from tqdm import tqdm\n",
    "import time\n",
    "# ---------------------- 1. 配置参数 ----------------------\n",
    "RAW_DATA_ROOT = r\"D:\\QQ\\糖足数据\\糖足缺血预测数据\"  # 原始数据根目录（直接读取，不复制）\n",
    "VAL_RATIO = 0.2                # 验证集比例\n",
    "BATCH_SIZE = 32                # 批次大小\n",
    "RANDOM_SEED = 42               # 随机种子\n",
    "LEARNING_RATE = 1e-4           # 学习率\n",
    "NUM_EPOCHS = 30                # 训练轮数\n",
    "DEVICE = torch.device(\"cuda\" if torch.cuda.is_available() else \"cpu\")  # 自动选择设备\n",
    "SAVE_MODEL_PATH = r\"D:\\QQ\\糖足数据\\resnet34_best.pth\"  # 最佳模型保存路径\n",
    "# ---------------------- 2. 定义数据预处理（与训练一致） ----------------------\n",
    "# 注意：训练集和验证集预处理需分开（训练集增强，验证集仅标准化）\n",
    "train_transform = transforms.Compose([\n",
    "    transforms.Resize((224, 224)),\n",
    "    transforms.RandomHorizontalFlip(p=0.5),\n",
    "    transforms.ToTensor(),\n",
    "    transforms.Normalize(mean=[0.485, 0.456, 0.406], std=[0.229, 0.224, 0.225])\n",
    "])\n",
    "\n",
    "val_transform = transforms.Compose([\n",
    "    transforms.Resize((224, 224)),\n",
    "    transforms.ToTensor(),\n",
    "    transforms.Normalize(mean=[0.485, 0.456, 0.406], std=[0.229, 0.224, 0.225])\n",
    "])\n",
    "\n",
    "# ---------------------- 3. 读取原始数据（ImageFolder自动识别标签） ----------------------\n",
    "# 先读取完整数据集（仅用于获取索引和标签）\n",
    "full_dataset = datasets.ImageFolder(\n",
    "    root=RAW_DATA_ROOT,\n",
    "    transform=None  # 暂不应用预处理，后续按训练/验证分别应用\n",
    ")\n",
    "print(f\"原始数据：共 {len(full_dataset)} 张图片，标签：{full_dataset.classes}\")\n"
   ]
  },
  {
   "cell_type": "code",
   "execution_count": 13,
   "id": "efc62a5e-ca41-4842-8602-47d56a284b9c",
   "metadata": {
    "tags": []
   },
   "outputs": [
    {
     "name": "stdout",
     "output_type": "stream",
     "text": [
      "训练集：318 张图片\n",
      "验证集：80 张图片\n"
     ]
    }
   ],
   "source": [
    "indices = list(range(len(full_dataset)))\n",
    "\n",
    "# 使用sklearn的train_test_split按比例拆分\n",
    "train_indices, val_indices = train_test_split(\n",
    "    indices,\n",
    "    test_size=VAL_RATIO,\n",
    "    random_state=RANDOM_SEED,\n",
    "    shuffle=True,\n",
    "    stratify=full_dataset.targets  # 按标签分层抽样，保证训练/验证集中标签比例一致\n",
    ")\n",
    "\n",
    "# ---------------------- 5. 创建带不同预处理的子集 ----------------------\n",
    "# 训练集：使用训练集预处理\n",
    "train_dataset = Subset(\n",
    "    datasets.ImageFolder(root=RAW_DATA_ROOT, transform=train_transform),\n",
    "    train_indices\n",
    ")\n",
    "\n",
    "# 验证集：使用验证集预处理（无数据增强）\n",
    "val_dataset = Subset(\n",
    "    datasets.ImageFolder(root=RAW_DATA_ROOT, transform=val_transform),\n",
    "    val_indices\n",
    ")\n",
    "\n",
    "# 打印拆分结果\n",
    "print(f\"训练集：{len(train_dataset)} 张图片\")\n",
    "print(f\"验证集：{len(val_dataset)} 张图片\")\n"
   ]
  },
  {
   "cell_type": "code",
   "execution_count": 14,
   "id": "4c357c51-7864-4c20-8e76-26b7f949a188",
   "metadata": {
    "tags": []
   },
   "outputs": [
    {
     "name": "stdout",
     "output_type": "stream",
     "text": [
      "\n",
      "批次数据形状：torch.Size([32, 3, 224, 224]) (batch_size, channels, height, width)\n",
      "批次标签：tensor([0, 1, 0, 0, 1, 0, 0, 0, 0, 1, 1, 1, 0, 0, 1, 0, 0, 0, 1, 0, 0, 0, 0, 0,\n",
      "        1, 1, 0, 0, 0, 1, 0, 1])\n",
      "标签对应类别：['Isc', 'NIsc', 'Isc', 'Isc', 'NIsc', 'Isc', 'Isc', 'Isc', 'Isc', 'NIsc', 'NIsc', 'NIsc', 'Isc', 'Isc', 'NIsc', 'Isc', 'Isc', 'Isc', 'NIsc', 'Isc', 'Isc', 'Isc', 'Isc', 'Isc', 'NIsc', 'NIsc', 'Isc', 'Isc', 'Isc', 'NIsc', 'Isc', 'NIsc']\n",
      "\n",
      "批次数据形状：torch.Size([32, 3, 224, 224]) (batch_size, channels, height, width)\n",
      "批次标签：tensor([1, 0, 0, 1, 1, 0, 1, 1, 1, 0, 1, 1, 1, 1, 0, 1, 0, 1, 1, 1, 0, 0, 1, 1,\n",
      "        1, 0, 0, 0, 0, 0, 1, 1])\n",
      "标签对应类别：['NIsc', 'Isc', 'Isc', 'NIsc', 'NIsc', 'Isc', 'NIsc', 'NIsc', 'NIsc', 'Isc', 'NIsc', 'NIsc', 'NIsc', 'NIsc', 'Isc', 'NIsc', 'Isc', 'NIsc', 'NIsc', 'NIsc', 'Isc', 'Isc', 'NIsc', 'NIsc', 'NIsc', 'Isc', 'Isc', 'Isc', 'Isc', 'Isc', 'NIsc', 'NIsc']\n"
     ]
    }
   ],
   "source": [
    "train_loader = DataLoader(\n",
    "    train_dataset,\n",
    "    batch_size=BATCH_SIZE,\n",
    "    shuffle=True,\n",
    "    num_workers=2  # 根据CPU核心数调整，0表示不使用多进程\n",
    ")\n",
    "\n",
    "val_loader = DataLoader(\n",
    "    val_dataset,\n",
    "    batch_size=BATCH_SIZE,\n",
    "    shuffle=False,\n",
    "    num_workers=2\n",
    ")\n",
    "\n",
    "# ---------------------- 7. 验证数据加载是否正常（可选） ----------------------\n",
    "# 查看一个批次的数据形状和标签\n",
    "def verify_dataloader(loader):\n",
    "    images, labels = next(iter(loader))\n",
    "    print(f\"\\n批次数据形状：{images.shape} (batch_size, channels, height, width)\")\n",
    "    print(f\"批次标签：{labels}\")\n",
    "    print(f\"标签对应类别：{[full_dataset.classes[label] for label in labels]}\")\n",
    "\n",
    "# 验证训练集加载器\n",
    "verify_dataloader(train_loader)\n",
    "# 验证验证集加载器\n",
    "verify_dataloader(val_loader)\n"
   ]
  },
  {
   "cell_type": "code",
   "execution_count": 17,
   "id": "bce75471-2182-4406-901d-bf682a96ab27",
   "metadata": {
    "tags": []
   },
   "outputs": [
    {
     "name": "stdout",
     "output_type": "stream",
     "text": [
      "\n",
      "开始训练，共 30 轮\n",
      "\n",
      "Epoch 1/30\n",
      "----------\n"
     ]
    },
    {
     "name": "stderr",
     "output_type": "stream",
     "text": [
      "训练中: 100%|██████████████████████████████████████████████████████████████████████████| 10/10 [00:38<00:00,  3.82s/it]\n",
      "验证中: 100%|████████████████████████████████████████████████████████████████████████████| 3/3 [00:11<00:00,  3.93s/it]\n"
     ]
    },
    {
     "name": "stdout",
     "output_type": "stream",
     "text": [
      "训练集: 损失: 0.6357 准确率: 0.6321\n",
      "验证集: 损失: 0.7064 准确率: 0.6250\n",
      "保存最佳模型 (准确率: 0.6250)\n",
      "\n",
      "Epoch 2/30\n",
      "----------\n"
     ]
    },
    {
     "name": "stderr",
     "output_type": "stream",
     "text": [
      "训练中: 100%|██████████████████████████████████████████████████████████████████████████| 10/10 [00:40<00:00,  4.01s/it]\n",
      "验证中: 100%|████████████████████████████████████████████████████████████████████████████| 3/3 [00:11<00:00,  3.86s/it]\n"
     ]
    },
    {
     "name": "stdout",
     "output_type": "stream",
     "text": [
      "训练集: 损失: 0.4330 准确率: 0.8082\n",
      "验证集: 损失: 0.7665 准确率: 0.6125\n",
      "\n",
      "Epoch 3/30\n",
      "----------\n"
     ]
    },
    {
     "name": "stderr",
     "output_type": "stream",
     "text": [
      "训练中: 100%|██████████████████████████████████████████████████████████████████████████| 10/10 [00:39<00:00,  3.96s/it]\n",
      "验证中: 100%|████████████████████████████████████████████████████████████████████████████| 3/3 [00:11<00:00,  3.82s/it]\n"
     ]
    },
    {
     "name": "stdout",
     "output_type": "stream",
     "text": [
      "训练集: 损失: 0.3257 准确率: 0.8836\n",
      "验证集: 损失: 0.7801 准确率: 0.6125\n",
      "\n",
      "Epoch 4/30\n",
      "----------\n"
     ]
    },
    {
     "name": "stderr",
     "output_type": "stream",
     "text": [
      "训练中: 100%|██████████████████████████████████████████████████████████████████████████| 10/10 [00:38<00:00,  3.88s/it]\n",
      "验证中: 100%|████████████████████████████████████████████████████████████████████████████| 3/3 [00:13<00:00,  4.53s/it]\n"
     ]
    },
    {
     "name": "stdout",
     "output_type": "stream",
     "text": [
      "训练集: 损失: 0.2454 准确率: 0.9465\n",
      "验证集: 损失: 0.7891 准确率: 0.6125\n",
      "\n",
      "Epoch 5/30\n",
      "----------\n"
     ]
    },
    {
     "name": "stderr",
     "output_type": "stream",
     "text": [
      "训练中: 100%|██████████████████████████████████████████████████████████████████████████| 10/10 [00:38<00:00,  3.89s/it]\n",
      "验证中: 100%|████████████████████████████████████████████████████████████████████████████| 3/3 [00:11<00:00,  3.94s/it]\n"
     ]
    },
    {
     "name": "stdout",
     "output_type": "stream",
     "text": [
      "训练集: 损失: 0.1726 准确率: 0.9748\n",
      "验证集: 损失: 0.8415 准确率: 0.6000\n",
      "\n",
      "Epoch 6/30\n",
      "----------\n"
     ]
    },
    {
     "name": "stderr",
     "output_type": "stream",
     "text": [
      "训练中: 100%|██████████████████████████████████████████████████████████████████████████| 10/10 [00:38<00:00,  3.82s/it]\n",
      "验证中: 100%|████████████████████████████████████████████████████████████████████████████| 3/3 [00:11<00:00,  3.97s/it]\n"
     ]
    },
    {
     "name": "stdout",
     "output_type": "stream",
     "text": [
      "训练集: 损失: 0.1303 准确率: 0.9780\n",
      "验证集: 损失: 0.8875 准确率: 0.6125\n",
      "\n",
      "Epoch 7/30\n",
      "----------\n"
     ]
    },
    {
     "name": "stderr",
     "output_type": "stream",
     "text": [
      "训练中: 100%|██████████████████████████████████████████████████████████████████████████| 10/10 [00:37<00:00,  3.73s/it]\n",
      "验证中: 100%|████████████████████████████████████████████████████████████████████████████| 3/3 [00:10<00:00,  3.56s/it]\n"
     ]
    },
    {
     "name": "stdout",
     "output_type": "stream",
     "text": [
      "训练集: 损失: 0.0969 准确率: 0.9969\n",
      "验证集: 损失: 0.9230 准确率: 0.6125\n",
      "\n",
      "Epoch 8/30\n",
      "----------\n"
     ]
    },
    {
     "name": "stderr",
     "output_type": "stream",
     "text": [
      "训练中: 100%|██████████████████████████████████████████████████████████████████████████| 10/10 [00:39<00:00,  3.99s/it]\n",
      "验证中: 100%|████████████████████████████████████████████████████████████████████████████| 3/3 [00:11<00:00,  3.93s/it]\n"
     ]
    },
    {
     "name": "stdout",
     "output_type": "stream",
     "text": [
      "训练集: 损失: 0.0720 准确率: 0.9937\n",
      "验证集: 损失: 0.9399 准确率: 0.6250\n",
      "\n",
      "Epoch 9/30\n",
      "----------\n"
     ]
    },
    {
     "name": "stderr",
     "output_type": "stream",
     "text": [
      "训练中: 100%|██████████████████████████████████████████████████████████████████████████| 10/10 [00:38<00:00,  3.83s/it]\n",
      "验证中: 100%|████████████████████████████████████████████████████████████████████████████| 3/3 [00:11<00:00,  3.74s/it]\n"
     ]
    },
    {
     "name": "stdout",
     "output_type": "stream",
     "text": [
      "训练集: 损失: 0.0450 准确率: 1.0000\n",
      "验证集: 损失: 0.9934 准确率: 0.6000\n",
      "\n",
      "Epoch 10/30\n",
      "----------\n"
     ]
    },
    {
     "name": "stderr",
     "output_type": "stream",
     "text": [
      "训练中: 100%|██████████████████████████████████████████████████████████████████████████| 10/10 [00:36<00:00,  3.67s/it]\n",
      "验证中: 100%|████████████████████████████████████████████████████████████████████████████| 3/3 [00:11<00:00,  3.92s/it]\n"
     ]
    },
    {
     "name": "stdout",
     "output_type": "stream",
     "text": [
      "训练集: 损失: 0.0553 准确率: 0.9969\n",
      "验证集: 损失: 1.0733 准确率: 0.6125\n",
      "\n",
      "Epoch 11/30\n",
      "----------\n"
     ]
    },
    {
     "name": "stderr",
     "output_type": "stream",
     "text": [
      "训练中: 100%|██████████████████████████████████████████████████████████████████████████| 10/10 [00:37<00:00,  3.78s/it]\n",
      "验证中: 100%|████████████████████████████████████████████████████████████████████████████| 3/3 [00:11<00:00,  3.75s/it]\n"
     ]
    },
    {
     "name": "stdout",
     "output_type": "stream",
     "text": [
      "训练集: 损失: 0.0351 准确率: 1.0000\n",
      "验证集: 损失: 1.0619 准确率: 0.6125\n",
      "\n",
      "Epoch 12/30\n",
      "----------\n"
     ]
    },
    {
     "name": "stderr",
     "output_type": "stream",
     "text": [
      "训练中: 100%|██████████████████████████████████████████████████████████████████████████| 10/10 [00:35<00:00,  3.59s/it]\n",
      "验证中: 100%|████████████████████████████████████████████████████████████████████████████| 3/3 [00:10<00:00,  3.62s/it]\n"
     ]
    },
    {
     "name": "stdout",
     "output_type": "stream",
     "text": [
      "训练集: 损失: 0.0286 准确率: 0.9969\n",
      "验证集: 损失: 1.0723 准确率: 0.6375\n",
      "保存最佳模型 (准确率: 0.6375)\n",
      "\n",
      "Epoch 13/30\n",
      "----------\n"
     ]
    },
    {
     "name": "stderr",
     "output_type": "stream",
     "text": [
      "训练中: 100%|██████████████████████████████████████████████████████████████████████████| 10/10 [00:38<00:00,  3.82s/it]\n",
      "验证中: 100%|████████████████████████████████████████████████████████████████████████████| 3/3 [00:10<00:00,  3.56s/it]\n"
     ]
    },
    {
     "name": "stdout",
     "output_type": "stream",
     "text": [
      "训练集: 损失: 0.0206 准确率: 1.0000\n",
      "验证集: 损失: 1.0659 准确率: 0.6375\n",
      "\n",
      "Epoch 14/30\n",
      "----------\n"
     ]
    },
    {
     "name": "stderr",
     "output_type": "stream",
     "text": [
      "训练中: 100%|██████████████████████████████████████████████████████████████████████████| 10/10 [00:36<00:00,  3.62s/it]\n",
      "验证中: 100%|████████████████████████████████████████████████████████████████████████████| 3/3 [00:12<00:00,  4.16s/it]\n"
     ]
    },
    {
     "name": "stdout",
     "output_type": "stream",
     "text": [
      "训练集: 损失: 0.0216 准确率: 1.0000\n",
      "验证集: 损失: 1.1000 准确率: 0.6250\n",
      "\n",
      "Epoch 15/30\n",
      "----------\n"
     ]
    },
    {
     "name": "stderr",
     "output_type": "stream",
     "text": [
      "训练中: 100%|██████████████████████████████████████████████████████████████████████████| 10/10 [00:38<00:00,  3.83s/it]\n",
      "验证中: 100%|████████████████████████████████████████████████████████████████████████████| 3/3 [00:11<00:00,  3.94s/it]\n"
     ]
    },
    {
     "name": "stdout",
     "output_type": "stream",
     "text": [
      "训练集: 损失: 0.0169 准确率: 1.0000\n",
      "验证集: 损失: 1.0977 准确率: 0.6250\n",
      "\n",
      "Epoch 16/30\n",
      "----------\n"
     ]
    },
    {
     "name": "stderr",
     "output_type": "stream",
     "text": [
      "训练中: 100%|██████████████████████████████████████████████████████████████████████████| 10/10 [00:35<00:00,  3.59s/it]\n",
      "验证中: 100%|████████████████████████████████████████████████████████████████████████████| 3/3 [00:10<00:00,  3.56s/it]\n"
     ]
    },
    {
     "name": "stdout",
     "output_type": "stream",
     "text": [
      "训练集: 损失: 0.0227 准确率: 1.0000\n",
      "验证集: 损失: 1.0806 准确率: 0.6250\n",
      "\n",
      "Epoch 17/30\n",
      "----------\n"
     ]
    },
    {
     "name": "stderr",
     "output_type": "stream",
     "text": [
      "训练中: 100%|██████████████████████████████████████████████████████████████████████████| 10/10 [00:41<00:00,  4.12s/it]\n",
      "验证中: 100%|████████████████████████████████████████████████████████████████████████████| 3/3 [00:10<00:00,  3.57s/it]\n"
     ]
    },
    {
     "name": "stdout",
     "output_type": "stream",
     "text": [
      "训练集: 损失: 0.0130 准确率: 1.0000\n",
      "验证集: 损失: 1.0818 准确率: 0.6125\n",
      "\n",
      "Epoch 18/30\n",
      "----------\n"
     ]
    },
    {
     "name": "stderr",
     "output_type": "stream",
     "text": [
      "训练中: 100%|██████████████████████████████████████████████████████████████████████████| 10/10 [00:37<00:00,  3.77s/it]\n",
      "验证中: 100%|████████████████████████████████████████████████████████████████████████████| 3/3 [00:11<00:00,  3.89s/it]\n"
     ]
    },
    {
     "name": "stdout",
     "output_type": "stream",
     "text": [
      "训练集: 损失: 0.0172 准确率: 1.0000\n",
      "验证集: 损失: 1.1319 准确率: 0.6000\n",
      "\n",
      "Epoch 19/30\n",
      "----------\n"
     ]
    },
    {
     "name": "stderr",
     "output_type": "stream",
     "text": [
      "训练中: 100%|██████████████████████████████████████████████████████████████████████████| 10/10 [00:38<00:00,  3.84s/it]\n",
      "验证中: 100%|████████████████████████████████████████████████████████████████████████████| 3/3 [00:12<00:00,  4.02s/it]\n"
     ]
    },
    {
     "name": "stdout",
     "output_type": "stream",
     "text": [
      "训练集: 损失: 0.0114 准确率: 1.0000\n",
      "验证集: 损失: 1.1599 准确率: 0.6000\n",
      "\n",
      "Epoch 20/30\n",
      "----------\n"
     ]
    },
    {
     "name": "stderr",
     "output_type": "stream",
     "text": [
      "训练中: 100%|██████████████████████████████████████████████████████████████████████████| 10/10 [00:38<00:00,  3.88s/it]\n",
      "验证中: 100%|████████████████████████████████████████████████████████████████████████████| 3/3 [00:13<00:00,  4.41s/it]\n"
     ]
    },
    {
     "name": "stdout",
     "output_type": "stream",
     "text": [
      "训练集: 损失: 0.0073 准确率: 1.0000\n",
      "验证集: 损失: 1.1756 准确率: 0.6000\n",
      "\n",
      "Epoch 21/30\n",
      "----------\n"
     ]
    },
    {
     "name": "stderr",
     "output_type": "stream",
     "text": [
      "训练中: 100%|██████████████████████████████████████████████████████████████████████████| 10/10 [00:38<00:00,  3.85s/it]\n",
      "验证中: 100%|████████████████████████████████████████████████████████████████████████████| 3/3 [00:12<00:00,  4.14s/it]\n"
     ]
    },
    {
     "name": "stdout",
     "output_type": "stream",
     "text": [
      "训练集: 损失: 0.0125 准确率: 1.0000\n",
      "验证集: 损失: 1.1766 准确率: 0.6000\n",
      "\n",
      "Epoch 22/30\n",
      "----------\n"
     ]
    },
    {
     "name": "stderr",
     "output_type": "stream",
     "text": [
      "训练中: 100%|██████████████████████████████████████████████████████████████████████████| 10/10 [00:38<00:00,  3.84s/it]\n",
      "验证中: 100%|████████████████████████████████████████████████████████████████████████████| 3/3 [00:11<00:00,  3.75s/it]\n"
     ]
    },
    {
     "name": "stdout",
     "output_type": "stream",
     "text": [
      "训练集: 损失: 0.0093 准确率: 1.0000\n",
      "验证集: 损失: 1.1978 准确率: 0.5875\n",
      "\n",
      "Epoch 23/30\n",
      "----------\n"
     ]
    },
    {
     "name": "stderr",
     "output_type": "stream",
     "text": [
      "训练中: 100%|██████████████████████████████████████████████████████████████████████████| 10/10 [00:36<00:00,  3.65s/it]\n",
      "验证中: 100%|████████████████████████████████████████████████████████████████████████████| 3/3 [00:11<00:00,  3.74s/it]\n"
     ]
    },
    {
     "name": "stdout",
     "output_type": "stream",
     "text": [
      "训练集: 损失: 0.0075 准确率: 1.0000\n",
      "验证集: 损失: 1.1879 准确率: 0.6000\n",
      "\n",
      "Epoch 24/30\n",
      "----------\n"
     ]
    },
    {
     "name": "stderr",
     "output_type": "stream",
     "text": [
      "训练中: 100%|██████████████████████████████████████████████████████████████████████████| 10/10 [00:39<00:00,  3.98s/it]\n",
      "验证中: 100%|████████████████████████████████████████████████████████████████████████████| 3/3 [00:12<00:00,  4.18s/it]\n"
     ]
    },
    {
     "name": "stdout",
     "output_type": "stream",
     "text": [
      "训练集: 损失: 0.0107 准确率: 1.0000\n",
      "验证集: 损失: 1.1405 准确率: 0.6000\n",
      "\n",
      "Epoch 25/30\n",
      "----------\n"
     ]
    },
    {
     "name": "stderr",
     "output_type": "stream",
     "text": [
      "训练中: 100%|██████████████████████████████████████████████████████████████████████████| 10/10 [00:39<00:00,  3.92s/it]\n",
      "验证中: 100%|████████████████████████████████████████████████████████████████████████████| 3/3 [00:10<00:00,  3.58s/it]\n"
     ]
    },
    {
     "name": "stdout",
     "output_type": "stream",
     "text": [
      "训练集: 损失: 0.0088 准确率: 1.0000\n",
      "验证集: 损失: 1.1616 准确率: 0.6000\n",
      "\n",
      "Epoch 26/30\n",
      "----------\n"
     ]
    },
    {
     "name": "stderr",
     "output_type": "stream",
     "text": [
      "训练中: 100%|██████████████████████████████████████████████████████████████████████████| 10/10 [00:34<00:00,  3.41s/it]\n",
      "验证中: 100%|████████████████████████████████████████████████████████████████████████████| 3/3 [00:11<00:00,  3.76s/it]\n"
     ]
    },
    {
     "name": "stdout",
     "output_type": "stream",
     "text": [
      "训练集: 损失: 0.0148 准确率: 1.0000\n",
      "验证集: 损失: 1.2873 准确率: 0.5750\n",
      "\n",
      "Epoch 27/30\n",
      "----------\n"
     ]
    },
    {
     "name": "stderr",
     "output_type": "stream",
     "text": [
      "训练中: 100%|██████████████████████████████████████████████████████████████████████████| 10/10 [00:33<00:00,  3.37s/it]\n",
      "验证中: 100%|████████████████████████████████████████████████████████████████████████████| 3/3 [00:11<00:00,  3.85s/it]\n"
     ]
    },
    {
     "name": "stdout",
     "output_type": "stream",
     "text": [
      "训练集: 损失: 0.0075 准确率: 1.0000\n",
      "验证集: 损失: 1.2922 准确率: 0.5875\n",
      "\n",
      "Epoch 28/30\n",
      "----------\n"
     ]
    },
    {
     "name": "stderr",
     "output_type": "stream",
     "text": [
      "训练中: 100%|██████████████████████████████████████████████████████████████████████████| 10/10 [00:34<00:00,  3.47s/it]\n",
      "验证中: 100%|████████████████████████████████████████████████████████████████████████████| 3/3 [00:10<00:00,  3.51s/it]\n"
     ]
    },
    {
     "name": "stdout",
     "output_type": "stream",
     "text": [
      "训练集: 损失: 0.0049 准确率: 1.0000\n",
      "验证集: 损失: 1.2727 准确率: 0.5875\n",
      "\n",
      "Epoch 29/30\n",
      "----------\n"
     ]
    },
    {
     "name": "stderr",
     "output_type": "stream",
     "text": [
      "训练中: 100%|██████████████████████████████████████████████████████████████████████████| 10/10 [00:36<00:00,  3.63s/it]\n",
      "验证中: 100%|████████████████████████████████████████████████████████████████████████████| 3/3 [00:10<00:00,  3.43s/it]\n"
     ]
    },
    {
     "name": "stdout",
     "output_type": "stream",
     "text": [
      "训练集: 损失: 0.0081 准确率: 1.0000\n",
      "验证集: 损失: 1.2116 准确率: 0.6000\n",
      "\n",
      "Epoch 30/30\n",
      "----------\n"
     ]
    },
    {
     "name": "stderr",
     "output_type": "stream",
     "text": [
      "训练中: 100%|██████████████████████████████████████████████████████████████████████████| 10/10 [00:35<00:00,  3.52s/it]\n",
      "验证中: 100%|████████████████████████████████████████████████████████████████████████████| 3/3 [00:10<00:00,  3.62s/it]\n",
      "C:\\Users\\Wzy\\AppData\\Local\\Temp\\ipykernel_9176\\2426242380.py:164: UserWarning: Glyph 36718 (\\N{CJK UNIFIED IDEOGRAPH-8F6E}) missing from font(s) DejaVu Sans.\n",
      "  plt.tight_layout()\n",
      "C:\\Users\\Wzy\\AppData\\Local\\Temp\\ipykernel_9176\\2426242380.py:164: UserWarning: Glyph 27425 (\\N{CJK UNIFIED IDEOGRAPH-6B21}) missing from font(s) DejaVu Sans.\n",
      "  plt.tight_layout()\n",
      "C:\\Users\\Wzy\\AppData\\Local\\Temp\\ipykernel_9176\\2426242380.py:164: UserWarning: Glyph 25439 (\\N{CJK UNIFIED IDEOGRAPH-635F}) missing from font(s) DejaVu Sans.\n",
      "  plt.tight_layout()\n",
      "C:\\Users\\Wzy\\AppData\\Local\\Temp\\ipykernel_9176\\2426242380.py:164: UserWarning: Glyph 22833 (\\N{CJK UNIFIED IDEOGRAPH-5931}) missing from font(s) DejaVu Sans.\n",
      "  plt.tight_layout()\n",
      "C:\\Users\\Wzy\\AppData\\Local\\Temp\\ipykernel_9176\\2426242380.py:164: UserWarning: Glyph 26354 (\\N{CJK UNIFIED IDEOGRAPH-66F2}) missing from font(s) DejaVu Sans.\n",
      "  plt.tight_layout()\n",
      "C:\\Users\\Wzy\\AppData\\Local\\Temp\\ipykernel_9176\\2426242380.py:164: UserWarning: Glyph 32447 (\\N{CJK UNIFIED IDEOGRAPH-7EBF}) missing from font(s) DejaVu Sans.\n",
      "  plt.tight_layout()\n",
      "C:\\Users\\Wzy\\AppData\\Local\\Temp\\ipykernel_9176\\2426242380.py:164: UserWarning: Glyph 35757 (\\N{CJK UNIFIED IDEOGRAPH-8BAD}) missing from font(s) DejaVu Sans.\n",
      "  plt.tight_layout()\n",
      "C:\\Users\\Wzy\\AppData\\Local\\Temp\\ipykernel_9176\\2426242380.py:164: UserWarning: Glyph 32451 (\\N{CJK UNIFIED IDEOGRAPH-7EC3}) missing from font(s) DejaVu Sans.\n",
      "  plt.tight_layout()\n",
      "C:\\Users\\Wzy\\AppData\\Local\\Temp\\ipykernel_9176\\2426242380.py:164: UserWarning: Glyph 39564 (\\N{CJK UNIFIED IDEOGRAPH-9A8C}) missing from font(s) DejaVu Sans.\n",
      "  plt.tight_layout()\n",
      "C:\\Users\\Wzy\\AppData\\Local\\Temp\\ipykernel_9176\\2426242380.py:164: UserWarning: Glyph 35777 (\\N{CJK UNIFIED IDEOGRAPH-8BC1}) missing from font(s) DejaVu Sans.\n",
      "  plt.tight_layout()\n"
     ]
    },
    {
     "name": "stdout",
     "output_type": "stream",
     "text": [
      "训练集: 损失: 0.0048 准确率: 1.0000\n",
      "验证集: 损失: 1.1961 准确率: 0.6000\n",
      "\n",
      "训练完成！耗时: 24m 39s\n",
      "最佳验证集准确率: 0.6375\n"
     ]
    },
    {
     "name": "stderr",
     "output_type": "stream",
     "text": [
      "C:\\Users\\Wzy\\AppData\\Local\\Temp\\ipykernel_9176\\2426242380.py:164: UserWarning: Glyph 20934 (\\N{CJK UNIFIED IDEOGRAPH-51C6}) missing from font(s) DejaVu Sans.\n",
      "  plt.tight_layout()\n",
      "C:\\Users\\Wzy\\AppData\\Local\\Temp\\ipykernel_9176\\2426242380.py:164: UserWarning: Glyph 30830 (\\N{CJK UNIFIED IDEOGRAPH-786E}) missing from font(s) DejaVu Sans.\n",
      "  plt.tight_layout()\n",
      "C:\\Users\\Wzy\\AppData\\Local\\Temp\\ipykernel_9176\\2426242380.py:164: UserWarning: Glyph 29575 (\\N{CJK UNIFIED IDEOGRAPH-7387}) missing from font(s) DejaVu Sans.\n",
      "  plt.tight_layout()\n",
      "C:\\Users\\Wzy\\AppData\\Local\\Temp\\ipykernel_9176\\2426242380.py:165: UserWarning: Glyph 36718 (\\N{CJK UNIFIED IDEOGRAPH-8F6E}) missing from font(s) DejaVu Sans.\n",
      "  plt.savefig('training_history.png')\n",
      "C:\\Users\\Wzy\\AppData\\Local\\Temp\\ipykernel_9176\\2426242380.py:165: UserWarning: Glyph 27425 (\\N{CJK UNIFIED IDEOGRAPH-6B21}) missing from font(s) DejaVu Sans.\n",
      "  plt.savefig('training_history.png')\n",
      "C:\\Users\\Wzy\\AppData\\Local\\Temp\\ipykernel_9176\\2426242380.py:165: UserWarning: Glyph 25439 (\\N{CJK UNIFIED IDEOGRAPH-635F}) missing from font(s) DejaVu Sans.\n",
      "  plt.savefig('training_history.png')\n",
      "C:\\Users\\Wzy\\AppData\\Local\\Temp\\ipykernel_9176\\2426242380.py:165: UserWarning: Glyph 22833 (\\N{CJK UNIFIED IDEOGRAPH-5931}) missing from font(s) DejaVu Sans.\n",
      "  plt.savefig('training_history.png')\n",
      "C:\\Users\\Wzy\\AppData\\Local\\Temp\\ipykernel_9176\\2426242380.py:165: UserWarning: Glyph 26354 (\\N{CJK UNIFIED IDEOGRAPH-66F2}) missing from font(s) DejaVu Sans.\n",
      "  plt.savefig('training_history.png')\n",
      "C:\\Users\\Wzy\\AppData\\Local\\Temp\\ipykernel_9176\\2426242380.py:165: UserWarning: Glyph 32447 (\\N{CJK UNIFIED IDEOGRAPH-7EBF}) missing from font(s) DejaVu Sans.\n",
      "  plt.savefig('training_history.png')\n",
      "C:\\Users\\Wzy\\AppData\\Local\\Temp\\ipykernel_9176\\2426242380.py:165: UserWarning: Glyph 35757 (\\N{CJK UNIFIED IDEOGRAPH-8BAD}) missing from font(s) DejaVu Sans.\n",
      "  plt.savefig('training_history.png')\n",
      "C:\\Users\\Wzy\\AppData\\Local\\Temp\\ipykernel_9176\\2426242380.py:165: UserWarning: Glyph 32451 (\\N{CJK UNIFIED IDEOGRAPH-7EC3}) missing from font(s) DejaVu Sans.\n",
      "  plt.savefig('training_history.png')\n",
      "C:\\Users\\Wzy\\AppData\\Local\\Temp\\ipykernel_9176\\2426242380.py:165: UserWarning: Glyph 39564 (\\N{CJK UNIFIED IDEOGRAPH-9A8C}) missing from font(s) DejaVu Sans.\n",
      "  plt.savefig('training_history.png')\n",
      "C:\\Users\\Wzy\\AppData\\Local\\Temp\\ipykernel_9176\\2426242380.py:165: UserWarning: Glyph 35777 (\\N{CJK UNIFIED IDEOGRAPH-8BC1}) missing from font(s) DejaVu Sans.\n",
      "  plt.savefig('training_history.png')\n",
      "C:\\Users\\Wzy\\AppData\\Local\\Temp\\ipykernel_9176\\2426242380.py:165: UserWarning: Glyph 20934 (\\N{CJK UNIFIED IDEOGRAPH-51C6}) missing from font(s) DejaVu Sans.\n",
      "  plt.savefig('training_history.png')\n",
      "C:\\Users\\Wzy\\AppData\\Local\\Temp\\ipykernel_9176\\2426242380.py:165: UserWarning: Glyph 30830 (\\N{CJK UNIFIED IDEOGRAPH-786E}) missing from font(s) DejaVu Sans.\n",
      "  plt.savefig('training_history.png')\n",
      "C:\\Users\\Wzy\\AppData\\Local\\Temp\\ipykernel_9176\\2426242380.py:165: UserWarning: Glyph 29575 (\\N{CJK UNIFIED IDEOGRAPH-7387}) missing from font(s) DejaVu Sans.\n",
      "  plt.savefig('training_history.png')\n",
      "E:\\Anaconda\\envs\\wzy-pytorch\\Lib\\site-packages\\IPython\\core\\pylabtools.py:170: UserWarning: Glyph 25439 (\\N{CJK UNIFIED IDEOGRAPH-635F}) missing from font(s) DejaVu Sans.\n",
      "  fig.canvas.print_figure(bytes_io, **kw)\n",
      "E:\\Anaconda\\envs\\wzy-pytorch\\Lib\\site-packages\\IPython\\core\\pylabtools.py:170: UserWarning: Glyph 22833 (\\N{CJK UNIFIED IDEOGRAPH-5931}) missing from font(s) DejaVu Sans.\n",
      "  fig.canvas.print_figure(bytes_io, **kw)\n",
      "E:\\Anaconda\\envs\\wzy-pytorch\\Lib\\site-packages\\IPython\\core\\pylabtools.py:170: UserWarning: Glyph 26354 (\\N{CJK UNIFIED IDEOGRAPH-66F2}) missing from font(s) DejaVu Sans.\n",
      "  fig.canvas.print_figure(bytes_io, **kw)\n",
      "E:\\Anaconda\\envs\\wzy-pytorch\\Lib\\site-packages\\IPython\\core\\pylabtools.py:170: UserWarning: Glyph 32447 (\\N{CJK UNIFIED IDEOGRAPH-7EBF}) missing from font(s) DejaVu Sans.\n",
      "  fig.canvas.print_figure(bytes_io, **kw)\n",
      "E:\\Anaconda\\envs\\wzy-pytorch\\Lib\\site-packages\\IPython\\core\\pylabtools.py:170: UserWarning: Glyph 36718 (\\N{CJK UNIFIED IDEOGRAPH-8F6E}) missing from font(s) DejaVu Sans.\n",
      "  fig.canvas.print_figure(bytes_io, **kw)\n",
      "E:\\Anaconda\\envs\\wzy-pytorch\\Lib\\site-packages\\IPython\\core\\pylabtools.py:170: UserWarning: Glyph 27425 (\\N{CJK UNIFIED IDEOGRAPH-6B21}) missing from font(s) DejaVu Sans.\n",
      "  fig.canvas.print_figure(bytes_io, **kw)\n",
      "E:\\Anaconda\\envs\\wzy-pytorch\\Lib\\site-packages\\IPython\\core\\pylabtools.py:170: UserWarning: Glyph 35757 (\\N{CJK UNIFIED IDEOGRAPH-8BAD}) missing from font(s) DejaVu Sans.\n",
      "  fig.canvas.print_figure(bytes_io, **kw)\n",
      "E:\\Anaconda\\envs\\wzy-pytorch\\Lib\\site-packages\\IPython\\core\\pylabtools.py:170: UserWarning: Glyph 32451 (\\N{CJK UNIFIED IDEOGRAPH-7EC3}) missing from font(s) DejaVu Sans.\n",
      "  fig.canvas.print_figure(bytes_io, **kw)\n",
      "E:\\Anaconda\\envs\\wzy-pytorch\\Lib\\site-packages\\IPython\\core\\pylabtools.py:170: UserWarning: Glyph 39564 (\\N{CJK UNIFIED IDEOGRAPH-9A8C}) missing from font(s) DejaVu Sans.\n",
      "  fig.canvas.print_figure(bytes_io, **kw)\n",
      "E:\\Anaconda\\envs\\wzy-pytorch\\Lib\\site-packages\\IPython\\core\\pylabtools.py:170: UserWarning: Glyph 35777 (\\N{CJK UNIFIED IDEOGRAPH-8BC1}) missing from font(s) DejaVu Sans.\n",
      "  fig.canvas.print_figure(bytes_io, **kw)\n",
      "E:\\Anaconda\\envs\\wzy-pytorch\\Lib\\site-packages\\IPython\\core\\pylabtools.py:170: UserWarning: Glyph 20934 (\\N{CJK UNIFIED IDEOGRAPH-51C6}) missing from font(s) DejaVu Sans.\n",
      "  fig.canvas.print_figure(bytes_io, **kw)\n",
      "E:\\Anaconda\\envs\\wzy-pytorch\\Lib\\site-packages\\IPython\\core\\pylabtools.py:170: UserWarning: Glyph 30830 (\\N{CJK UNIFIED IDEOGRAPH-786E}) missing from font(s) DejaVu Sans.\n",
      "  fig.canvas.print_figure(bytes_io, **kw)\n",
      "E:\\Anaconda\\envs\\wzy-pytorch\\Lib\\site-packages\\IPython\\core\\pylabtools.py:170: UserWarning: Glyph 29575 (\\N{CJK UNIFIED IDEOGRAPH-7387}) missing from font(s) DejaVu Sans.\n",
      "  fig.canvas.print_figure(bytes_io, **kw)\n"
     ]
    },
    {
     "data": {
      "image/png": "[encoded data removed]",
      "text/plain": [
       "<Figure size 1200x400 with 2 Axes>"
      ]
     },
     "metadata": {},
     "output_type": "display_data"
    },
    {
     "name": "stdout",
     "output_type": "stream",
     "text": [
      "\n",
      "分类报告:\n"
     ]
    },
    {
     "ename": "NameError",
     "evalue": "name 'class_names' is not defined",
     "output_type": "error",
     "traceback": [
      "\u001b[31m---------------------------------------------------------------------------\u001b[39m",
      "\u001b[31mNameError\u001b[39m                                 Traceback (most recent call last)",
      "\u001b[36mCell\u001b[39m\u001b[36m \u001b[39m\u001b[32mIn[17]\u001b[39m\u001b[32m, line 208\u001b[39m\n\u001b[32m    205\u001b[39m     \u001b[38;5;28;01mreturn\u001b[39;00m all_preds, all_labels\n\u001b[32m    207\u001b[39m \u001b[38;5;66;03m# 评估模型\u001b[39;00m\n\u001b[32m--> \u001b[39m\u001b[32m208\u001b[39m all_preds, all_labels = \u001b[43mevaluate_model\u001b[49m\u001b[43m(\u001b[49m\u001b[43m)\u001b[49m\n\u001b[32m    210\u001b[39m \u001b[38;5;66;03m# ---------------------- 10. 可视化部分预测结果 ----------------------\u001b[39;00m\n\u001b[32m    211\u001b[39m \u001b[38;5;28;01mdef\u001b[39;00m\u001b[38;5;250m \u001b[39m\u001b[34mvisualize_predictions\u001b[39m(num_images=\u001b[32m5\u001b[39m):\n",
      "\u001b[36mCell\u001b[39m\u001b[36m \u001b[39m\u001b[32mIn[17]\u001b[39m\u001b[32m, line 199\u001b[39m, in \u001b[36mevaluate_model\u001b[39m\u001b[34m()\u001b[39m\n\u001b[32m    193\u001b[39m \u001b[38;5;28;01mfrom\u001b[39;00m\u001b[38;5;250m \u001b[39m\u001b[34;01msklearn\u001b[39;00m\u001b[34;01m.\u001b[39;00m\u001b[34;01mmetrics\u001b[39;00m\u001b[38;5;250m \u001b[39m\u001b[38;5;28;01mimport\u001b[39;00m classification_report, confusion_matrix\n\u001b[32m    195\u001b[39m \u001b[38;5;28mprint\u001b[39m(\u001b[33m\"\u001b[39m\u001b[38;5;130;01m\\n\u001b[39;00m\u001b[33m分类报告:\u001b[39m\u001b[33m\"\u001b[39m)\n\u001b[32m    196\u001b[39m \u001b[38;5;28mprint\u001b[39m(classification_report(\n\u001b[32m    197\u001b[39m     all_labels, \n\u001b[32m    198\u001b[39m     all_preds, \n\u001b[32m--> \u001b[39m\u001b[32m199\u001b[39m     target_names=\u001b[43mclass_names\u001b[49m\n\u001b[32m    200\u001b[39m ))\n\u001b[32m    202\u001b[39m \u001b[38;5;28mprint\u001b[39m(\u001b[33m\"\u001b[39m\u001b[38;5;130;01m\\n\u001b[39;00m\u001b[33m混淆矩阵:\u001b[39m\u001b[33m\"\u001b[39m)\n\u001b[32m    203\u001b[39m \u001b[38;5;28mprint\u001b[39m(confusion_matrix(all_labels, all_preds))\n",
      "\u001b[31mNameError\u001b[39m: name 'class_names' is not defined"
     ]
    }
   ],
   "source": [
    "class ResNet34BinaryClassifier(nn.Module):\n",
    "    def __init__(self, pretrained=True):\n",
    "        super(ResNet34BinaryClassifier, self).__init__()\n",
    "        # 加载预训练的ResNet34\n",
    "        self.resnet34 = models.resnet34(pretrained=pretrained)\n",
    "        \n",
    "        # 冻结部分层（可选，根据数据集大小调整）\n",
    "        if pretrained:\n",
    "            # 冻结前10层，只训练后面的层\n",
    "            for param in list(self.resnet34.parameters())[:-10]:\n",
    "                param.requires_grad = False\n",
    "        \n",
    "        # 替换最后一层以适应二分类任务\n",
    "        num_ftrs = self.resnet34.fc.in_features\n",
    "        self.resnet34.fc = nn.Linear(num_ftrs, 1)  # 二分类输出1个值\n",
    "        \n",
    "    def forward(self, x):\n",
    "        x = self.resnet34(x)\n",
    "        return x\n",
    "\n",
    "# 初始化模型并移动到设备\n",
    "model = ResNet34BinaryClassifier(pretrained=True).to(DEVICE)\n",
    "\n",
    "# ---------------------- 5. 定义损失函数和优化器 ----------------------\n",
    "criterion = nn.BCEWithLogitsLoss()  # 二分类使用带sigmoid的交叉熵损失\n",
    "optimizer = optim.Adam(model.parameters(), lr=LEARNING_RATE)\n",
    "\n",
    "\n",
    "\n",
    "# ---------------------- 6. 训练和验证函数 ----------------------\n",
    "def train_one_epoch(model, train_loader, criterion, optimizer, device):\n",
    "    model.train()\n",
    "    running_loss = 0.0\n",
    "    running_corrects = 0\n",
    "    \n",
    "    for inputs, labels in tqdm(train_loader, desc=\"训练中\"):\n",
    "        inputs = inputs.to(device)\n",
    "        labels = labels.to(device).float().unsqueeze(1)  # 转换为float并增加维度\n",
    "        \n",
    "        # 清零梯度\n",
    "        optimizer.zero_grad()\n",
    "        \n",
    "        # 前向传播\n",
    "        with torch.set_grad_enabled(True):\n",
    "            outputs = model(inputs)\n",
    "            preds = torch.sigmoid(outputs) > 0.5  # 转换为二分类结果\n",
    "            loss = criterion(outputs, labels)\n",
    "            \n",
    "            # 反向传播和优化\n",
    "            loss.backward()\n",
    "            optimizer.step()\n",
    "        \n",
    "        # 统计\n",
    "        running_loss += loss.item() * inputs.size(0)\n",
    "        running_corrects += torch.sum(preds == labels.data)\n",
    "    \n",
    "    epoch_loss = running_loss / len(train_loader.dataset)\n",
    "    epoch_acc = running_corrects.double() / len(train_loader.dataset)\n",
    "    \n",
    "    return epoch_loss, epoch_acc.item()\n",
    "\n",
    "def validate(model, val_loader, criterion, device):\n",
    "    model.eval()\n",
    "    running_loss = 0.0\n",
    "    running_corrects = 0\n",
    "    \n",
    "    with torch.no_grad():\n",
    "        for inputs, labels in tqdm(val_loader, desc=\"验证中\"):\n",
    "            inputs = inputs.to(device)\n",
    "            labels = labels.to(device).float().unsqueeze(1)\n",
    "            \n",
    "            # 前向传播\n",
    "            outputs = model(inputs)\n",
    "            preds = torch.sigmoid(outputs) > 0.5\n",
    "            loss = criterion(outputs, labels)\n",
    "            \n",
    "            # 统计\n",
    "            running_loss += loss.item() * inputs.size(0)\n",
    "            running_corrects += torch.sum(preds == labels.data)\n",
    "    \n",
    "    epoch_loss = running_loss / len(val_loader.dataset)\n",
    "    epoch_acc = running_corrects.double() / len(val_loader.dataset)\n",
    "    \n",
    "    return epoch_loss, epoch_acc.item()\n",
    "\n",
    "# ---------------------- 7. 训练循环 ----------------------\n",
    "def train_model():\n",
    "    # 记录训练过程\n",
    "    history = {\n",
    "        'train_loss': [], 'train_acc': [],\n",
    "        'val_loss': [], 'val_acc': []\n",
    "    }\n",
    "    \n",
    "    best_val_acc = 0.0  # 记录最佳验证准确率\n",
    "    \n",
    "    print(f\"\\n开始训练，共 {NUM_EPOCHS} 轮\")\n",
    "    start_time = time.time()\n",
    "    \n",
    "    for epoch in range(NUM_EPOCHS):\n",
    "        print(f\"\\nEpoch {epoch+1}/{NUM_EPOCHS}\")\n",
    "        print(\"-\" * 10)\n",
    "        \n",
    "        # 训练\n",
    "        train_loss, train_acc = train_one_epoch(\n",
    "            model, train_loader, criterion, optimizer, DEVICE\n",
    "        )\n",
    "        \n",
    "        # 验证\n",
    "        val_loss, val_acc = validate(\n",
    "            model, val_loader, criterion, DEVICE\n",
    "        )\n",
    "        \n",
    "        # 调整学习率\n",
    "        #scheduler.step(val_loss)\n",
    "        \n",
    "        # 记录结果\n",
    "        history['train_loss'].append(train_loss)\n",
    "        history['train_acc'].append(train_acc)\n",
    "        history['val_loss'].append(val_loss)\n",
    "        history['val_acc'].append(val_acc)\n",
    "        \n",
    "        # 打印本轮结果\n",
    "        print(f\"训练集: 损失: {train_loss:.4f} 准确率: {train_acc:.4f}\")\n",
    "        print(f\"验证集: 损失: {val_loss:.4f} 准确率: {val_acc:.4f}\")\n",
    "        \n",
    "        # 保存最佳模型\n",
    "        if val_acc > best_val_acc:\n",
    "            best_val_acc = val_acc\n",
    "            torch.save(model.state_dict(), SAVE_MODEL_PATH)\n",
    "            print(f\"保存最佳模型 (准确率: {best_val_acc:.4f})\")\n",
    "    \n",
    "    # 计算总训练时间\n",
    "    time_elapsed = time.time() - start_time\n",
    "    print(f\"\\n训练完成！耗时: {time_elapsed // 60:.0f}m {time_elapsed % 60:.0f}s\")\n",
    "    print(f\"最佳验证集准确率: {best_val_acc:.4f}\")\n",
    "    \n",
    "    return history\n",
    "\n",
    "# 开始训练\n",
    "history = train_model()\n",
    "\n",
    "# ---------------------- 8. 可视化训练结果 ----------------------\n",
    "def plot_training_history(history):\n",
    "    plt.figure(figsize=(12, 4))\n",
    "    \n",
    "    # 绘制损失曲线\n",
    "    plt.subplot(1, 2, 1)\n",
    "    plt.plot(history['train_loss'], label='训练损失')\n",
    "    plt.plot(history['val_loss'], label='验证损失')\n",
    "    plt.title('损失曲线')\n",
    "    plt.xlabel('轮次')\n",
    "    plt.ylabel('损失')\n",
    "    plt.legend()\n",
    "    \n",
    "    # 绘制准确率曲线\n",
    "    plt.subplot(1, 2, 2)\n",
    "    plt.plot(history['train_acc'], label='训练准确率')\n",
    "    plt.plot(history['val_acc'], label='验证准确率')\n",
    "    plt.title('准确率曲线')\n",
    "    plt.xlabel('轮次')\n",
    "    plt.ylabel('准确率')\n",
    "    plt.legend()\n",
    "    \n",
    "    plt.tight_layout()\n",
    "    plt.savefig('training_history.png')\n",
    "    plt.show()\n",
    "\n",
    "# 绘制训练历史\n",
    "plot_training_history(history)\n",
    "\n",
    "# ---------------------- 9. 模型评估和预测示例 ----------------------\n",
    "def evaluate_model():\n",
    "    # 加载最佳模型\n",
    "    model.load_state_dict(torch.load(SAVE_MODEL_PATH))\n",
    "    model.eval()\n",
    "    \n",
    "    # 在验证集上进行详细评估\n",
    "    all_preds = []\n",
    "    all_labels = []\n",
    "    \n",
    "    with torch.no_grad():\n",
    "        for inputs, labels in val_loader:\n",
    "            inputs = inputs.to(DEVICE)\n",
    "            labels = labels.to(DEVICE)\n",
    "            \n",
    "            outputs = model(inputs)\n",
    "            preds = torch.sigmoid(outputs) > 0.5\n",
    "            \n",
    "            all_preds.extend(preds.cpu().numpy())\n",
    "            all_labels.extend(labels.cpu().numpy())\n",
    "    \n",
    "    # 计算各项指标\n",
    "    from sklearn.metrics import classification_report, confusion_matrix\n",
    "    \n",
    "    print(\"\\n分类报告:\")\n",
    "    print(classification_report(\n",
    "        all_labels, \n",
    "        all_preds, \n",
    "        target_names=class_names\n",
    "    ))\n",
    "    \n",
    "    print(\"\\n混淆矩阵:\")\n",
    "    print(confusion_matrix(all_labels, all_preds))\n",
    "    \n",
    "    return all_preds, all_labels\n",
    "\n",
    "# 评估模型\n",
    "all_preds, all_labels = evaluate_model()\n",
    "\n",
    "# ---------------------- 10. 可视化部分预测结果 ----------------------\n",
    "def visualize_predictions(num_images=5):\n",
    "    model.load_state_dict(torch.load(SAVE_MODEL_PATH))\n",
    "    model.eval()\n",
    "    \n",
    "    # 获取一些样本\n",
    "    images, labels = next(iter(val_loader))\n",
    "    images = images[:num_images]\n",
    "    labels = labels[:num_images]\n",
    "    \n",
    "    # 预测\n",
    "    with torch.no_grad():\n",
    "        outputs = model(images.to(DEVICE))\n",
    "        preds = torch.sigmoid(outputs) > 0.5\n",
    "        preds = preds.cpu().numpy().flatten()\n",
    "    \n",
    "    # 显示结果\n",
    "    plt.figure(figsize=(15, 3))\n",
    "    for i in range(num_images):\n",
    "        plt.subplot(1, num_images, i+1)\n",
    "        plt.imshow(np.transpose(images[i].numpy(), (1, 2, 0)))\n",
    "        plt.title(f\"真实: {class_names[labels[i]]}\\n预测: {class_names[int(preds[i])]}\")\n",
    "        plt.axis('off')\n",
    "    \n",
    "    plt.tight_layout()\n",
    "    plt.savefig('predictions.png')\n",
    "    plt.show()\n",
    "\n",
    "# 可视化预测结果\n",
    "visualize_predictions()"
   ]
  },
  {
   "cell_type": "code",
   "execution_count": null,
   "id": "bdce2f40-ee8c-482a-8956-4b0e5de178a9",
   "metadata": {},
   "outputs": [],
   "source": []
  }
 ],
 "metadata": {
  "kernelspec": {
   "display_name": "wzy_pytorch",
   "language": "python",
   "name": "wzy_pytorch"
  },
  "language_info": {
   "codemirror_mode": {
    "name": "ipython",
    "version": 3
   },
   "file_extension": ".py",
   "mimetype": "text/x-python",
   "name": "python",
   "nbconvert_exporter": "python",
   "pygments_lexer": "ipython3",
   "version": "3.12.0"
  }
 },
 "nbformat": 4,
 "nbformat_minor": 5
}
