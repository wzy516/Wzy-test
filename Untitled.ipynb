{
 "cells": [
  {
   "cell_type": "code",
   "execution_count": 3,
   "id": "2f12b2cf-0fb4-40ed-bbe6-926efadc1f47",
   "metadata": {
    "tags": []
   },
   "outputs": [
    {
     "name": "stdout",
     "output_type": "stream",
     "text": [
      "E:\\Anaconda\\envs\\wzy-pytorch\\python.exe\n",
      "2.8.0+cu126\n"
     ]
    }
   ],
   "source": [
    "import sys\n",
    "print(sys.executable)  # 应输出E:\\Anaconda\\envs\\wzy-pytorch\\python.exe\n",
    "import torch\n",
    "print(torch.__version__)  # 应无报错"
   ]
  },
  {
   "cell_type": "code",
   "execution_count": 4,
   "id": "a322cc5e-c90f-4626-a81c-5a158ba8f1fc",
   "metadata": {},
   "outputs": [
    {
     "data": {
      "text/plain": [
       "tensor([[0, 1],\n",
       "        [2, 3]])"
      ]
     },
     "execution_count": 4,
     "metadata": {},
     "output_type": "execute_result"
    }
   ],
   "source": [
    "x=torch.arange(4).reshape(2,2)\n",
    "x"
   ]
  },
  {
   "cell_type": "code",
   "execution_count": 7,
   "id": "1a0dd1ac-c2ab-4726-91da-1d40693ed788",
   "metadata": {
    "tags": []
   },
   "outputs": [
    {
     "data": {
      "text/plain": [
       "tensor([2, 3])"
      ]
     },
     "execution_count": 7,
     "metadata": {},
     "output_type": "execute_result"
    }
   ],
   "source": [
    "x[1]\n"
   ]
  }
 ],
 "metadata": {
  "kernelspec": {
   "display_name": "wzy_pytorch",
   "language": "python",
   "name": "wzy_pytorch"
  },
  "language_info": {
   "codemirror_mode": {
    "name": "ipython",
    "version": 3
   },
   "file_extension": ".py",
   "mimetype": "text/x-python",
   "name": "python",
   "nbconvert_exporter": "python",
   "pygments_lexer": "ipython3",
   "version": "3.12.0"
  }
 },
 "nbformat": 4,
 "nbformat_minor": 5
}
